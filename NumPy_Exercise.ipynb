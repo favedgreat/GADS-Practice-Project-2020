{
  "cells": [
    {
      "cell_type": "markdown",
      "metadata": {
        "id": "view-in-github",
        "colab_type": "text"
      },
      "source": [
        "<a href=\"https://colab.research.google.com/github/favedgreat/GADS-Practice-Project-2020/blob/master/NumPy_Exercise.ipynb\" target=\"_parent\"><img src=\"https://colab.research.google.com/assets/colab-badge.svg\" alt=\"Open In Colab\"/></a>"
      ]
    },
    {
      "cell_type": "markdown",
      "source": [
        "**DATA SCIENCE ASSIGNMENT [001]**"
      ],
      "metadata": {
        "id": "584tl1wazPct"
      }
    },
    {
      "cell_type": "markdown",
      "metadata": {
        "id": "f6KTKmA3YEGj"
      },
      "source": [
        "**Q1) What is numpy?**\n",
        "\n",
        "**Answer:**\t*‘NumPy’ is a portmanteau of Numerical and Python. It is a python library and a tool for numerical computation, containing powerful n-dimensional array objects*"
      ]
    },
    {
      "cell_type": "markdown",
      "metadata": {
        "id": "sVY5eWEgYMOD"
      },
      "source": [
        "**Q2) Why do we use numpy?**\n",
        "\n",
        "**Answer:** *NumPy is used mainly for its:*\n",
        "1. Speed: It provides fast, precompiled functions for numerical routines.\n",
        "2. Efficiency: It adopts array-oriented computing for optimal efficiency.\n",
        "3. Compactness: It provides compact and faster computations with vectorization."
      ]
    },
    {
      "cell_type": "markdown",
      "metadata": {
        "id": "B65xwPkUYqSw"
      },
      "source": [
        "**Q3) Find the shape, size and dimension of the following array**\n",
        "\n",
        "  array = np.array([[0,1,1], [1,0,1], [1,1,0]])\n"
      ]
    },
    {
      "cell_type": "code",
      "execution_count": 25,
      "metadata": {
        "id": "hkPN7jXXX-9x",
        "colab": {
          "base_uri": "https://localhost:8080/"
        },
        "outputId": "f19327aa-08b0-4961-f34e-7f4d923f5ff8"
      },
      "outputs": [
        {
          "output_type": "stream",
          "name": "stdout",
          "text": [
            "The shape of the array is (3, 3)\n",
            "The size of the array is 9\n",
            "The dimension of the array is 2\n"
          ]
        }
      ],
      "source": [
        "# Creating an instance of numpy \n",
        "import numpy as np\n",
        "\n",
        "array = np.array([[0,1,1], [1,0,1], [1,1,0]])\n",
        "array\n",
        "# Finding the shape\n",
        "sh = np.shape(array)\n",
        "print(f\"The shape of the array is {sh}\")\n",
        "\n",
        "#  FInding the size\n",
        "sz = np.size(array)\n",
        "print(f\"The size of the array is {sz}\")\n",
        "\n",
        "#  FInding the dimension\n",
        "dim = np.ndim(array)\n",
        "print(f\"The dimension of the array is {dim}\")"
      ]
    },
    {
      "cell_type": "markdown",
      "metadata": {
        "id": "lBHm4LASY_h8"
      },
      "source": [
        "Q4) Code the following output using the np.eye() function\n",
        "    # 2x2 matrix with 1's on main diagonal\n",
        "     [[ 1.  0.]\n",
        "      [ 0.  1.]]\n"
      ]
    },
    {
      "cell_type": "code",
      "execution_count": null,
      "metadata": {
        "id": "6eyu59lEhalW"
      },
      "outputs": [],
      "source": [
        "# Coding for an identity Matrix\n",
        "id = np.eye(2)\n",
        "print(f\"The 2 x 2 identity matrix is: \\n {id}\")"
      ]
    },
    {
      "cell_type": "markdown",
      "metadata": {
        "id": "ggAKOQILZKiw"
      },
      "source": [
        "**Q5) Using the np.linespace function code the following:**\n",
        "\n",
        "Start = 0, Stop = 2, Number of element =10 \n"
      ]
    },
    {
      "cell_type": "code",
      "execution_count": null,
      "metadata": {
        "id": "CZvpzZy9uJMa"
      },
      "outputs": [],
      "source": [
        "# Using the line space function\n",
        "ls = np.linspace(0,2,10)\n",
        "print(f\"The result of using the linespace function is: \\n {ls}\")"
      ]
    },
    {
      "cell_type": "markdown",
      "metadata": {
        "id": "0I9O1ayrZzzh"
      },
      "source": [
        "**Q6) Check the shape and the transpose of the following array**\n",
        "     m = np.array ( [ [1,6,9],\n",
        "                      [2,5,8],\n",
        "                      [3,7,1]]) \n"
      ]
    },
    {
      "cell_type": "code",
      "execution_count": null,
      "metadata": {
        "id": "GsnF3xQkyHOq"
      },
      "outputs": [],
      "source": [
        "# Checking shape and transpose\n",
        "m = np.array ( [[1,6,9],\n",
        "                [2,5,8],\n",
        "                [3,7,1]])\n",
        "sh = m.shape\n",
        "tr = m.T\n",
        "print(f\"The shape of array M is {sh} and \\nThe transpose is: \\n{tr}\")\n"
      ]
    },
    {
      "cell_type": "markdown",
      "metadata": {
        "id": "czCXWPTLaCoE"
      },
      "source": [
        "**Q7) What is the minimum and the maximum of the following array. Using the minimum and maximum     function of numpy.**\n",
        "  m = np.array  ( [ [1,6,9],\n",
        "                                [2, 8, 125],\n",
        "             [3, 3, 15]])\n"
      ]
    },
    {
      "cell_type": "code",
      "execution_count": null,
      "metadata": {
        "id": "clE7pj2Pz0YT"
      },
      "outputs": [],
      "source": [
        "# Finding the minimum and the maximum of an array\n",
        "m = np.array( [ [1,6,9],\n",
        "                [2, 8, 125],\n",
        "                [3, 3, 15]])\n",
        "\n",
        "min = m.min()\n",
        "max = m.max()\n",
        "\n",
        "print(f\"The minimum in array M is {min}\")\n",
        "print(f\"The maximum in array M is {max}\")"
      ]
    },
    {
      "cell_type": "markdown",
      "metadata": {
        "id": "VudOwQhlakf2"
      },
      "source": [
        "**Q8) Add up the following array using the .sum function**\n",
        "m = np.array  ( [ [1,6,9],\n",
        "                                [2, 8, 125],\n",
        "             [3, 3, 15]])\n"
      ]
    },
    {
      "cell_type": "code",
      "execution_count": null,
      "metadata": {
        "id": "TEbf0b7x0ufk"
      },
      "outputs": [],
      "source": [
        "# Summing elements of an array\n",
        "m = np.array([[1,6,9],\n",
        "             [2, 8, 125],\n",
        "             [3, 3, 15]])\n",
        "sum = m.sum()\n",
        "print(f\"The sum of all elements in the array is {sum}\")"
      ]
    },
    {
      "cell_type": "markdown",
      "metadata": {
        "id": "n4kTpvcjazWs"
      },
      "source": [
        "**Q9) Slice elements from index 1 to index 5 from the following array:** arr = np.array([1, 2, 3, 4, 5, 6, 7])\n"
      ]
    },
    {
      "cell_type": "code",
      "execution_count": null,
      "metadata": {
        "id": "eWQQOhtV2L1a"
      },
      "outputs": [],
      "source": [
        "# Slicing an array\n",
        "arr = np.array([1, 2, 3, 4, 5, 6, 7])\n",
        "\n",
        "slc = arr[1:6] #The fifth index inclusive\n",
        "print(f\"Sliced array: {slc}\")\n"
      ]
    },
    {
      "cell_type": "markdown",
      "metadata": {
        "id": "QkyDyblha_R6"
      },
      "source": [
        "**Q10) Slice elements from index 4 to the end of the array:** arr = np.array([1, 2, 3, 4, 5, 6, 7])\n"
      ]
    },
    {
      "cell_type": "code",
      "execution_count": null,
      "metadata": {
        "id": "b_5ZwnT_3A92"
      },
      "outputs": [],
      "source": [
        "# Slicing an array\n",
        "arr = np.array([1, 2, 3, 4, 5, 6, 7])\n",
        "\n",
        "slc = arr[4:]\n",
        "print(f\"Sliced array: {slc}\")"
      ]
    },
    {
      "cell_type": "markdown",
      "metadata": {
        "id": "C3DxPA3FbNZJ"
      },
      "source": [
        "**Q11) Slice elements from the beginning to index 4 (not included):** arr = np.array([1, 2, 3, 4, 5, 6, 7])\n"
      ]
    },
    {
      "cell_type": "code",
      "execution_count": null,
      "metadata": {
        "id": "3mfHtcP_3SvB"
      },
      "outputs": [],
      "source": [
        "# Slicing an array\n",
        "arr = np.array([1, 2, 3, 4, 5, 6, 7])\n",
        "\n",
        "slc = arr[:4] #The fourth index not inclusive\n",
        "print(f\"Sliced array: {slc}\")"
      ]
    },
    {
      "cell_type": "markdown",
      "metadata": {
        "id": "_NMJPZxjbVU_"
      },
      "source": [
        "**Q12) use numpy.where() with 1 Dimensional arrays**\n",
        "arr1 =np.where(arr > 17).   "
      ]
    },
    {
      "cell_type": "code",
      "execution_count": null,
      "metadata": {
        "id": "lD6Cf7a_3le-"
      },
      "outputs": [],
      "source": [
        "# Creating an instance of numpy \n",
        "import numpy as np\n",
        "\n",
        "arr_ = np.arange(34)\n",
        "# Using numpy.where function\n",
        "arr1 = np.where(arr_ > 17, (arr_//17), (arr_*0))\n",
        "\n",
        "print(f\"Executing the numpy.where() on a 1-Dimensional array yields:\\n\\t {arr1} \\nInterestingly, the function serves same purpose as the if...else... statement in conventional programming.\")\n"
      ]
    },
    {
      "cell_type": "markdown",
      "metadata": {
        "id": "-BdJMcnYbes3"
      },
      "source": [
        "**Q13) Get the specified resultant array** arr2 = np.where(arr > 17,1,3)\n"
      ]
    },
    {
      "cell_type": "code",
      "execution_count": null,
      "metadata": {
        "id": "aKrYbeiLcCCC"
      },
      "outputs": [],
      "source": [
        "# Creating an instance of numpy \n",
        "import numpy as np\n",
        "x = [\n",
        "    [5,  34, 15, 50],\n",
        "    [20, -5, 30, 15],\n",
        "    [-5, 10, 15, 0.17]\n",
        "    ]\n",
        "\n",
        "arr_ = np.array(x) # List implementation\n",
        "# Getting the resultant of an array\n",
        "arr2 = np.where(arr_ > 17, 1, 3)\n",
        "\n",
        "print(f\"Executing the numpy.where() on a multi-Dimensional array yields:\\n{arr2}\\nSurprisingly, the function works for all numbers on the real line (as it is to be expected).\")\n"
      ]
    },
    {
      "cell_type": "markdown",
      "metadata": {
        "id": "j0v0ctDYbzJ9"
      },
      "source": [
        "**Q14) Get some of resultant array as it is**\n",
        "      arr2 = np.where(arr > 17, 5, arr)\n"
      ]
    },
    {
      "cell_type": "code",
      "execution_count": null,
      "metadata": {
        "id": "ni4VjQwscDIq"
      },
      "outputs": [],
      "source": [
        "# Creating an instance of numpy \n",
        "import numpy as np\n",
        "x = (7, 10, 15, 20)\n",
        "    \n",
        "arr_ = np.array(x) # Tuple implementation \n",
        "# Getting the resultant of an array\n",
        "arr3 = np.where(arr_ > 17, 5, arr_)\n",
        "\n",
        "print(f\"Executing the numpy.where() on a multi-Dimensional array yields:\\n{arr3}\")"
      ]
    }
  ],
  "metadata": {
    "colab": {
      "provenance": [],
      "authorship_tag": "ABX9TyPp6tDDaXwft3TUer0BqXAj",
      "include_colab_link": true
    },
    "kernelspec": {
      "display_name": "Python 3",
      "name": "python3"
    },
    "language_info": {
      "name": "python"
    }
  },
  "nbformat": 4,
  "nbformat_minor": 0
}